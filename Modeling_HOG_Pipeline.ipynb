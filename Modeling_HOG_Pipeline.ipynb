{
  "cells": [
    {
      "cell_type": "markdown",
      "metadata": {
        "id": "view-in-github",
        "colab_type": "text"
      },
      "source": [
        "<a href=\"https://colab.research.google.com/github/FabioMMaia/CelebNet/blob/main/Modeling_HOG_Pipeline.ipynb\" target=\"_parent\"><img src=\"https://colab.research.google.com/assets/colab-badge.svg\" alt=\"Open In Colab\"/></a>"
      ]
    },
    {
      "cell_type": "code",
      "execution_count": 1,
      "metadata": {
        "id": "0jNKeNAIcwEN"
      },
      "outputs": [],
      "source": [
        "import numpy as np\n",
        "import pandas as pd\n",
        "import matplotlib.pyplot as plt\n",
        "from tensorflow import keras\n",
        "from sklearn.preprocessing import StandardScaler\n",
        "import tensorflow as tf\n",
        "import cv2\n",
        "from PIL import Image\n",
        "from skimage import data, exposure\n",
        "from skimage.feature import hog,local_binary_pattern\n",
        "from sklearn.decomposition import PCA\n",
        "from sklearn.model_selection import train_test_split\n",
        "from sklearn.model_selection import KFold\n",
        "from numpy.random import seed\n",
        "import pickle\n",
        "from tqdm import tqdm\n",
        "\n",
        "import pytz\n",
        "from datetime import datetime\n",
        "from collections import Counter\n",
        "import math\n",
        "\n",
        "from sklearn.metrics import accuracy_score\n",
        "\n",
        "import warnings\n",
        "warnings.filterwarnings('ignore')\n",
        "\n",
        "tqdm.pandas()"
      ]
    },
    {
      "cell_type": "code",
      "source": [
        "!pip install unidecode\n",
        "\n",
        "def norm_text(txt):\n",
        "  from unidecode import unidecode\n",
        "  return unidecode(txt).replace(' ','_').lower()"
      ],
      "metadata": {
        "colab": {
          "base_uri": "https://localhost:8080/"
        },
        "id": "9k9xlX-xef0d",
        "outputId": "18318d80-a53e-4e2e-dec5-b15df240482e"
      },
      "execution_count": 148,
      "outputs": [
        {
          "output_type": "stream",
          "name": "stdout",
          "text": [
            "Looking in indexes: https://pypi.org/simple, https://us-python.pkg.dev/colab-wheels/public/simple/\n",
            "Requirement already satisfied: unidecode in /usr/local/lib/python3.8/dist-packages (1.3.6)\n"
          ]
        }
      ]
    },
    {
      "cell_type": "code",
      "execution_count": 2,
      "metadata": {
        "colab": {
          "base_uri": "https://localhost:8080/"
        },
        "id": "UzJSiIc4z8BG",
        "outputId": "6dc9d49e-1a77-4c32-818a-2625f25411fa"
      },
      "outputs": [
        {
          "output_type": "stream",
          "name": "stdout",
          "text": [
            "Mounted at /content/drive\n"
          ]
        }
      ],
      "source": [
        "from google.colab import drive\n",
        "drive.mount('/content/drive')"
      ]
    },
    {
      "cell_type": "code",
      "execution_count": 3,
      "metadata": {
        "id": "I9gEzU85sBo8"
      },
      "outputs": [],
      "source": [
        "config_dir = '/content/drive/MyDrive/Projeto ML/2022/Aprendizado de Maquinas/Projeto/Pipeline/config/'\n",
        "model_save_dir = '/content/drive/MyDrive/Projeto ML/2022/Aprendizado de Maquinas/Projeto/Pipeline/model/'\n",
        "erro_dir = '/content/drive/MyDrive/Projeto ML/2022/Aprendizado de Maquinas/Projeto/Pipeline/error/'\n",
        "log_dir = '/content/drive/MyDrive/Projeto ML/2022/Aprendizado de Maquinas/Projeto/Pipeline/log/'"
      ]
    },
    {
      "cell_type": "code",
      "execution_count": 4,
      "metadata": {
        "id": "0HwQFYUYdKRx"
      },
      "outputs": [],
      "source": [
        "import sys\n",
        "sys.path.append('/content/drive/MyDrive/Projeto ML/2022/Aprendizado de Maquinas/Projeto/Pipeline/Modelos_Implementações')"
      ]
    },
    {
      "cell_type": "code",
      "execution_count": 347,
      "metadata": {
        "id": "At7N2h1tdKiJ"
      },
      "outputs": [],
      "source": [
        "import MLP as mlp # multilayer perceptron\n",
        "import Multinomial_LogReg # regressão logística com alpha variavel (bissecao)\n",
        "import R_LOG as r_log # regressão logística com alpha fixo\n",
        "import SVM_OVR # SVM one-versus-rest\n",
        "import ANN"
      ]
    },
    {
      "cell_type": "code",
      "source": [
        "import importlib\n",
        "\n",
        "importlib.reload(ANN)\n",
        "importlib.reload(mlp)\n",
        "importlib.reload(Multinomial_LogReg)\n",
        "importlib.reload(r_log)\n",
        "importlib.reload(SVM_OVR)\n",
        "importlib.reload(ANN)"
      ],
      "metadata": {
        "colab": {
          "base_uri": "https://localhost:8080/"
        },
        "id": "y2mrQXgKHxcZ",
        "outputId": "70f05738-dacb-4da4-9b75-5cd6f35d81e3"
      },
      "execution_count": 403,
      "outputs": [
        {
          "output_type": "execute_result",
          "data": {
            "text/plain": [
              "<module 'ANN' from '/content/drive/MyDrive/Projeto ML/2022/Aprendizado de Maquinas/Projeto/Pipeline/Modelos_Implementações/ANN.py'>"
            ]
          },
          "metadata": {},
          "execution_count": 403
        }
      ]
    },
    {
      "cell_type": "code",
      "execution_count": 6,
      "metadata": {
        "id": "ByYR7oyY_fFy"
      },
      "outputs": [],
      "source": [
        "class logfile():\n",
        "\n",
        "  def __init__(self, diretorio):\n",
        "    self.diretorio=diretorio\n",
        "\n",
        "  def start(self, tag, use_dateref=True):\n",
        "    if use_dateref:\n",
        "      tag = tag + '_' + datetime.now(pytz.timezone('America/Bahia')).strftime(\"%Y%m%d\")\n",
        "    self.save_file = open(self.diretorio +  tag + '.txt', 'w')\n",
        "    data_atual = datetime.now(pytz.timezone('America/Bahia')).strftime(\"%d/%m/%Y %H:%M:%S\")\n",
        "    print('Execução em:', data_atual, file=self.save_file)\n",
        "    \n",
        "  def end(self):\n",
        "    data_atual = datetime.now(pytz.timezone('America/Bahia')).strftime(\"%d/%m/%Y %H:%M:%S\")\n",
        "    print('Fim de Execução em:', data_atual, file=self.save_file)\n",
        "    self.save_file.close()"
      ]
    },
    {
      "cell_type": "markdown",
      "source": [
        "# Carregando Dataset - HOG"
      ],
      "metadata": {
        "id": "-fCP7qO9EMjx"
      }
    },
    {
      "cell_type": "code",
      "source": [
        "n_classes=3\n",
        "ref = 'HOG' \n",
        "\n",
        "tag= 'hog' + '_'+ str(n_classes) + '_classes'\n",
        "with open(r'/content/drive/MyDrive/Projeto ML/2022/Aprendizado de Maquinas/Projeto/Pipeline/Data/X_y_' + tag +'.obj', \"rb\") as f:\n",
        "    X,y = pickle.load(f)"
      ],
      "metadata": {
        "id": "nesCirIwjSTI"
      },
      "execution_count": 57,
      "outputs": []
    },
    {
      "cell_type": "code",
      "execution_count": 58,
      "metadata": {
        "colab": {
          "base_uri": "https://localhost:8080/"
        },
        "id": "UuMfnhFCv530",
        "outputId": "7d012409-75e6-4e9a-848a-cb7e1cd44fc8"
      },
      "outputs": [
        {
          "output_type": "stream",
          "name": "stdout",
          "text": [
            "X shape: (101, 4608)\n",
            "y shape: (101,)\n"
          ]
        }
      ],
      "source": [
        "print('X shape:', X.shape)\n",
        "print('y shape:', y.shape)"
      ]
    },
    {
      "cell_type": "code",
      "execution_count": 59,
      "metadata": {
        "colab": {
          "base_uri": "https://localhost:8080/"
        },
        "id": "AOgsjWL7dmDr",
        "outputId": "ab48fb06-a596-4d6d-e608-aad753b5f32e"
      },
      "outputs": [
        {
          "output_type": "stream",
          "name": "stdout",
          "text": [
            "Quantidade de pessoas: 3\n"
          ]
        }
      ],
      "source": [
        "# transformar categorias em one-hot-encoding: Saída\n",
        "saida = y.max()+1\n",
        "print(\"Quantidade de pessoas:\",saida)\n",
        "target = keras.utils.to_categorical(y, saida)"
      ]
    },
    {
      "cell_type": "markdown",
      "metadata": {
        "id": "yY1ktd8gd2yM"
      },
      "source": [
        "# Train x Test"
      ]
    },
    {
      "cell_type": "code",
      "source": [
        "def train_test_separation(X, y):\n",
        "  x_train, x_test, y_train_n, y_test_n = train_test_split(X, y, test_size=0.30, random_state=42,stratify=y)\n",
        "\n",
        "  y_train = target[y.index.isin(y_train_n.index).flatten(),:]\n",
        "  y_test= target[y.index.isin(y_test_n.index).flatten(),:]\n",
        "\n",
        "  assert y_train.shape[0]== y_train_n.shape[0]\n",
        "  assert y_test.shape[0]== y_test_n.shape[0]\n",
        "\n",
        "  print('Shape',x_train.shape, x_test.shape, y_train.shape, y_test.shape,  y_train_n.shape, y_test_n.shape)\n",
        "\n",
        "  return x_train, x_test, y_train_n, y_test_n, y_train, y_test"
      ],
      "metadata": {
        "id": "Db0Ju9CS_GMa"
      },
      "execution_count": 60,
      "outputs": []
    },
    {
      "cell_type": "code",
      "execution_count": 61,
      "metadata": {
        "id": "uy10wPGxd59i"
      },
      "outputs": [],
      "source": [
        "def apply_PCA(n_pca, x_train,x_test):\n",
        "  pca = PCA(n_components=n_pca, random_state=42)\n",
        "  pca.fit(x_train)\n",
        "\n",
        "  print('variancia explicada:', sum(pca.explained_variance_ratio_))\n",
        "  x_train_pca = pca.transform(x_train)\n",
        "  x_test_pca = pca.transform(x_test)\n",
        "\n",
        "  x_train_pca_norm = (x_train_pca - x_train_pca.mean(axis=0))/  x_train_pca.std(axis=0)\n",
        "  x_test_pca_norm = (x_test_pca - x_train_pca.mean(axis=0))/  x_train_pca.std(axis=0)\n",
        "\n",
        "  return x_train_pca_norm, x_test_pca_norm"
      ]
    },
    {
      "cell_type": "code",
      "source": [
        "X_train, X_test, y_train_n, y_test_n, y_train, y_test = train_test_separation(X,y)"
      ],
      "metadata": {
        "colab": {
          "base_uri": "https://localhost:8080/"
        },
        "id": "GSD9cLfdEh1t",
        "outputId": "671fd33b-4556-463c-d6dd-c4b929d4a5bf"
      },
      "execution_count": 62,
      "outputs": [
        {
          "output_type": "stream",
          "name": "stdout",
          "text": [
            "Shape (70, 4608) (31, 4608) (70, 3) (31, 3) (70,) (31,)\n"
          ]
        }
      ]
    },
    {
      "cell_type": "code",
      "execution_count": 66,
      "metadata": {
        "id": "3uXcqftrpx0w",
        "colab": {
          "base_uri": "https://localhost:8080/"
        },
        "outputId": "3d581c85-a8d4-4d61-e312-bcf5523b1092"
      },
      "outputs": [
        {
          "output_type": "stream",
          "name": "stdout",
          "text": [
            "variancia explicada: 0.864794452061688\n"
          ]
        }
      ],
      "source": [
        "X_train_pca, X_test_pca = apply_PCA(n_pca=50, x_train=X_train, x_test=X_test)"
      ]
    },
    {
      "cell_type": "code",
      "source": [
        "def unpack_dict_as_str(dicionario):\n",
        "  string=''\n",
        "\n",
        "  for k,v in dicionario.items():\n",
        "    string= string + str(k) + ':[ '\n",
        "    try:\n",
        "      for v_ in v:\n",
        "        string= string + str(v_) + ' '\n",
        "      string= string+'] '\n",
        "    except:\n",
        "      string= string + str(v) + '] '\n",
        "  return string.strip()\n",
        "\n",
        "# unpack_dict_as_str({'a':[2,5,6], 'b':[6,7]})"
      ],
      "metadata": {
        "colab": {
          "base_uri": "https://localhost:8080/",
          "height": 36
        },
        "id": "fWaBqU60YCPa",
        "outputId": "cffd60ba-5acd-4937-b181-7f1e666d150c"
      },
      "execution_count": 200,
      "outputs": [
        {
          "output_type": "execute_result",
          "data": {
            "text/plain": [
              "'a:[ 2 5 6 ] b:[ 6 7 ]'"
            ],
            "application/vnd.google.colaboratory.intrinsic+json": {
              "type": "string"
            }
          },
          "metadata": {},
          "execution_count": 200
        }
      ]
    },
    {
      "cell_type": "code",
      "source": [
        "def pipeline_integrated_onedim(nome_do_modelo, #nome do modelo\n",
        "                               classifier, # classificador\n",
        "                               param_iteracao, # parametro iteração - deve conter um dicionario com a lista de valores a ser iterado\n",
        "                               param_fixo,  # parametro fixo e respectivo valor (uma lista)\n",
        "                               data, # dicionario de treino e teste\n",
        "                               kf= KFold(n_splits=5, shuffle=True, random_state=42),\n",
        "                               neural_network=False): #kfold\n",
        "\n",
        "  print('Pipeline de testes para o modelo:', nome_do_modelo)\n",
        "  X_train = data['X_train']\n",
        "  X_test = data['X_test']\n",
        "  y_train = data['y_train']\n",
        "  y_test = data['y_test']\n",
        "\n",
        "  log={}\n",
        "  log['exec_time'] = 'Execução em: {}'.format(datetime.now(pytz.timezone('America/Bahia')).strftime(\"%d/%m/%Y %H:%M:%S\"))\n",
        "  log['model_name'] = nome_do_modelo\n",
        "  log['parametro_fixo'] = '{}:[{}]'.format(param_fixo[0], param_fixo[1])\n",
        "  log['parametro_variavel'] = unpack_dict_as_str(param_iteracao)\n",
        "  log['kfold'] = kf\n",
        "\n",
        "  best_acc_val = -1\n",
        "  best_model=None\n",
        "  best_param = None\n",
        "  it=0\n",
        "\n",
        "  for parametro, valores in param_iteracao.items():\n",
        "    cv_report = {}\n",
        "    for valor in valores:\n",
        "      it+=1\n",
        "\n",
        "      cv_report['cv_results_'+str(it)] = {}\n",
        "      print('Execução em: {}'.format(datetime.now(pytz.timezone('America/Bahia')).strftime(\"%d/%m/%Y %H:%M:%S\")))\n",
        "      print(\"====================================================================\")\n",
        "      print('iteração:{}'.format(it))\n",
        "      param = {parametro:valor}\n",
        "      param[param_fixo[0]] = param_fixo[1]\n",
        "      print('Testando parametros:\\n', unpack_dict_as_str(param))\n",
        "      print(\"====================================================================\")\n",
        "      \n",
        "      cv_report['cv_results_'+str(it)]['cv_param']= unpack_dict_as_str(param)\n",
        "\n",
        "      for k_index,(train_index, val_index) in enumerate(kf.split(X_train)):\n",
        "        X_train_kf, X_val_kf = X_train[train_index], X_train[val_index]\n",
        "        y_train_kf, y_val_kf = y_train[train_index], y_train[val_index]\n",
        "\n",
        "        # Ajusta o parâmetro usando o dicionário\n",
        "        for k,v in param.items():\n",
        "          setattr(classifier,k,v)\n",
        "        \n",
        "        if neural_network:\n",
        "          classifier.fit(X_train_kf, y_train_kf,[X_val_kf,y_val_kf])\n",
        "        else:\n",
        "          classifier.fit(X_train_kf, y_train_kf)\n",
        "\n",
        "        acc_train = accuracy_score(classifier.predict(X_train_kf), y_train_kf)\n",
        "        acc_val = accuracy_score(classifier.predict(X_val_kf), y_val_kf)\n",
        "        acc_test = accuracy_score(classifier.predict(X_test), y_test)\n",
        "\n",
        "        if acc_val>best_acc_val:\n",
        "          best_model=classifier\n",
        "          best_param = param\n",
        "          k_index_best = k_index\n",
        "          best_acc_val=acc_val\n",
        "\n",
        "        cv_report['cv_results_'+str(it)]['acc_train_'+str(k_index)] = acc_train\n",
        "        cv_report['cv_results_'+str(it)]['acc_val_'+ str(k_index)] = acc_val\n",
        "        cv_report['cv_results_'+str(it)]['acc_test_'+ str(k_index)] = acc_test\n",
        "\n",
        "    log['cv_report']= cv_report\n",
        "\n",
        "    if neural_network:\n",
        "      best_model.fit(X_train, y_train,[X_test,y_test])\n",
        "    else:\n",
        "      best_model.fit(X_train, y_train)\n",
        "    \n",
        "    acc_train_best_model = accuracy_score(best_model.predict(X_train), y_train)\n",
        "    acc_test_best_model = accuracy_score(best_model.predict(X_test), y_test)\n",
        "    print('Melhor acurácia no validação obtida com os parametros {}. Treino final: {:.4f} Teste:{:.4f}'.format(unpack_dict_as_str(best_param),acc_train_best_model, acc_test_best_model))\n",
        "    print('Fim da Execução: {}'.format(datetime.now(pytz.timezone('America/Bahia')).strftime(\"%d/%m/%Y %H:%M:%S\")))\n",
        "    \n",
        "    log['melhor_modelo_obj'] = best_model\n",
        "    log['best_param_k_fold'] = unpack_dict_as_str(best_param)\n",
        "    log['acc_train_best_model'] = acc_train_best_model\n",
        "    log['acc_test_best_model'] = acc_test_best_model\n",
        "\n",
        "    return log\n",
        "\n",
        "def dictlog_to_flat_table(log):\n",
        "  log_i = pd.DataFrame(log, index=[norm_text(modelo)])\n",
        "  cv_log_i = pd.DataFrame(log['cv_report']).T.reset_index().assign(modelo = norm_text(modelo))\n",
        "  cv_log_i = pd.merge(log_i,cv_log_i, left_index = True , right_on = 'modelo', how='outer').drop(columns='cv_report')\n",
        "  return cv_log_i"
      ],
      "metadata": {
        "id": "KoiQ6uaLIOaf"
      },
      "execution_count": 363,
      "outputs": []
    },
    {
      "cell_type": "markdown",
      "source": [
        "# Teste com Modelos"
      ],
      "metadata": {
        "id": "Olv5yCORwFSD"
      }
    },
    {
      "cell_type": "code",
      "source": [
        "logs = pd.DataFrame()"
      ],
      "metadata": {
        "id": "wq87vRPhv1Rl"
      },
      "execution_count": 404,
      "outputs": []
    },
    {
      "cell_type": "markdown",
      "source": [
        "Regressão Logística"
      ],
      "metadata": {
        "id": "7t7YCGZUyyzg"
      }
    },
    {
      "cell_type": "code",
      "source": [
        "modelo = 'Regressão Logística Multinomial Passo Fixo'\n",
        "\n",
        "log = pipeline_integrated_onedim(nome_do_modelo=modelo, \n",
        "                          classifier= Multinomial_LogReg.MultinomialLogReg(),\n",
        "                          param_iteracao= {'alpha':[0.01, 0.1]},\n",
        "                          param_fixo=['theta',0.001],\n",
        "                          data={'X_train':X_train_pca, 'X_test':X_test_pca, 'y_train':y_train_n, 'y_test':y_test_n} )\n",
        "\n",
        "log_df = dictlog_to_flat_table(log)\n",
        "logs = logs.append(log_df,ignore_index=True)"
      ],
      "metadata": {
        "colab": {
          "base_uri": "https://localhost:8080/"
        },
        "id": "8TCd4vHtWJAR",
        "outputId": "14dc5e18-8aa1-4f59-ce6e-d41af69ebcc1"
      },
      "execution_count": 292,
      "outputs": [
        {
          "output_type": "stream",
          "name": "stdout",
          "text": [
            "Pipeline de testes para o modelo: Regressão Logística Multinomial Passo Fixo\n",
            "====================================================================\n",
            "iteração:1\n",
            "Testando parametros:\n",
            " alpha:[ 0.01] theta:[ 0.001]\n",
            "====================================================================\n",
            "it:10000, norm_grad:0.008344351234974125, J:0.007027316236154077\n",
            "it:20000, norm_grad:0.0041879137241205835, J:0.0035336367712077697\n",
            "it:30000, norm_grad:0.002797060355018867, J:0.002362323989299491\n",
            "it:40000, norm_grad:0.0021002300275192436, J:0.0017748903991136405\n",
            "it:50000, norm_grad:0.0016815774042371373, J:0.0014217238925498155\n",
            "it:60000, norm_grad:0.001402205165488211, J:0.0011859331996768576\n",
            "it:70000, norm_grad:0.0012025031134775845, J:0.0010173178119877407\n",
            "it:80000, norm_grad:0.001052635007872087, J:0.0008907381038232871\n",
            "it:84225, norm_grad:0.0009999897709287967, J:0.0008462645014992518\n",
            "it:10000, norm_grad:0.008424667500614325, J:0.007157399030622491\n",
            "it:20000, norm_grad:0.004226631441136499, J:0.003597416782815458\n",
            "it:30000, norm_grad:0.0028224714926825337, J:0.0024045306052556817\n",
            "it:40000, norm_grad:0.0021191191609108984, J:0.0018064280554202705\n",
            "it:50000, norm_grad:0.0016966012022270793, J:0.0014469012962190896\n",
            "it:60000, norm_grad:0.0014146739445548473, J:0.001206888440655933\n",
            "it:70000, norm_grad:0.0012131583780268394, J:0.0010352662790651162\n",
            "it:80000, norm_grad:0.0010619367938920394, J:0.0009064364937032724\n",
            "it:84970, norm_grad:0.0009999980147742788, J:0.00085365808804495\n",
            "it:10000, norm_grad:0.00860178080176937, J:0.007464029490568622\n",
            "it:20000, norm_grad:0.00431648734309119, J:0.0037519138246305084\n",
            "it:30000, norm_grad:0.0028826493746560732, J:0.002507688567062584\n",
            "it:40000, norm_grad:0.0021643359116658638, J:0.0018837981277600151\n",
            "it:50000, norm_grad:0.001732801219510303, J:0.001508764434414142\n",
            "it:60000, norm_grad:0.0014448463726456117, J:0.0012584018678265417\n",
            "it:70000, norm_grad:0.0012390176947732821, J:0.0010793828562053911\n",
            "it:80000, norm_grad:0.0010845573659786101, J:0.0009450041303234087\n",
            "it:86785, norm_grad:0.0009999906107470238, J:0.0008714173103651227\n",
            "it:10000, norm_grad:0.008280516531291818, J:0.0069252957140519935\n",
            "it:20000, norm_grad:0.0041567938129917145, J:0.003484282533159371\n",
            "it:30000, norm_grad:0.0027767790005948415, J:0.0023301217410413968\n",
            "it:40000, norm_grad:0.00208528671109223, J:0.0017511009787405643\n",
            "it:50000, norm_grad:0.0016697907481725029, J:0.0014029064246070244\n",
            "it:60000, norm_grad:0.001392495984565528, J:0.0011703902096861177\n",
            "it:70000, norm_grad:0.0011942611263561459, J:0.0010040902928612344\n",
            "it:80000, norm_grad:0.0010454824833462165, J:0.0008792324929229013\n",
            "it:83652, norm_grad:0.000999996806674012, J:0.0008410513932824356\n",
            "it:10000, norm_grad:0.008480143711963543, J:0.007252137831633219\n",
            "it:20000, norm_grad:0.00425489569622013, J:0.003644677227646855\n",
            "it:30000, norm_grad:0.00284131331342515, J:0.0024357886510091315\n",
            "it:40000, norm_grad:0.0021332039895270694, J:0.0018296892017276684\n",
            "it:50000, norm_grad:0.001707823628136846, J:0.0014653780091450053\n",
            "it:60000, norm_grad:0.001423987423524073, J:0.0012221865804037072\n",
            "it:70000, norm_grad:0.0012211093675974958, J:0.001048302128309328\n",
            "it:80000, norm_grad:0.0010688672585126657, J:0.0009177815913944398\n",
            "it:85525, norm_grad:0.0009999968808192723, J:0.000858726582158055\n",
            "====================================================================\n",
            "iteração:2\n",
            "Testando parametros:\n",
            " alpha:[ 0.1] theta:[ 0.001]\n",
            "====================================================================\n",
            "it:8348, norm_grad:0.000999900386340036, J:0.0008439845976211855\n",
            "it:8398, norm_grad:0.0009999382970072085, J:0.0008520288738795992\n",
            "it:8584, norm_grad:0.0009999310121646021, J:0.0008689577712694083\n",
            "it:8274, norm_grad:0.0009999842103349218, J:0.0008377564348644986\n",
            "it:8481, norm_grad:0.0009999546816774267, J:0.000858320471623147\n",
            "it:9067, norm_grad:0.000999903773713622, J:0.0009253098311290851\n"
          ]
        }
      ]
    },
    {
      "cell_type": "code",
      "source": [
        "modelo = 'Regressão Logística Multinomial com Bisseção'\n",
        "\n",
        "log = pipeline_integrated_onedim(nome_do_modelo=modelo, \n",
        "                          classifier= Multinomial_LogReg.MultinomialLogReg_bissecao(),\n",
        "                          param_iteracao= {'itmax_bissec':[5, 20]},\n",
        "                          param_fixo=['theta',0.001],\n",
        "                          data={'X_train':X_train_pca, 'X_test':X_test_pca, 'y_train':y_train_n, 'y_test':y_test_n} )\n",
        "\n",
        "log_df = dictlog_to_flat_table(log)\n",
        "logs = logs.append(log_df,ignore_index=True)"
      ],
      "metadata": {
        "colab": {
          "base_uri": "https://localhost:8080/"
        },
        "id": "pyFaR2riwYtz",
        "outputId": "145329e4-9d75-4c65-db88-dd17e971c885"
      },
      "execution_count": 405,
      "outputs": [
        {
          "output_type": "stream",
          "name": "stdout",
          "text": [
            "Pipeline de testes para o modelo: Regressão Logística Multinomial com Bisseção\n",
            "Execução em: 21/01/2023 04:20:44\n",
            "====================================================================\n",
            "iteração:1\n",
            "Testando parametros:\n",
            " itmax_bissec:[ 5] theta:[ 0.001]\n",
            "====================================================================\n",
            "iteracao: 0 norm_grad: 53.2565892185961\n",
            "it:12, norm_grad:0.00044619934397123213, J:0.00019468690348727166, alpha_b:673.7083913306446, hl:8.735295950524192e-08\n",
            "iteracao: 0 norm_grad: 61.945637033569874\n",
            "it:9, norm_grad:0.0005375438180788925, J:0.0003278728346577502, alpha_b:719.8263727496169, hl:1.1528295075647291e-07\n",
            "iteracao: 0 norm_grad: 61.64541305739746\n",
            "it:13, norm_grad:0.0009073614509280886, J:0.0004811199277938615, alpha_b:306.36162704160427, hl:5.050721891015396e-07\n",
            "iteracao: 0 norm_grad: 60.80793198634237\n",
            "it:8, norm_grad:0.0002654893314528297, J:0.00011095851119750726, alpha_b:2149.744080462463, hl:8.670065273389452e-08\n",
            "iteracao: 0 norm_grad: 58.2582552462938\n",
            "it:14, norm_grad:0.0006501196018655858, J:0.0002970014621189593, alpha_b:924.9284140943028, hl:9.737004571300231e-07\n",
            "Execução em: 21/01/2023 04:20:44\n",
            "====================================================================\n",
            "iteração:2\n",
            "Testando parametros:\n",
            " itmax_bissec:[ 20] theta:[ 0.001]\n",
            "====================================================================\n",
            "iteracao: 0 norm_grad: 60.8580083800119\n",
            "it:10, norm_grad:0.00028754208571022397, J:9.581378310652e-05, alpha_b:2466.6011295299218, hl:8.655963826365998e-08\n",
            "iteracao: 0 norm_grad: 60.49493201170123\n",
            "it:12, norm_grad:0.0005557680295337089, J:0.0002227068780033512, alpha_b:1781.3816954778881, hl:5.044865467951916e-07\n",
            "iteracao: 0 norm_grad: 57.273892891255265\n",
            "it:21, norm_grad:0.00034829637682791935, J:0.0001927190468490901, alpha_b:1122.6334415924653, hl:1.3834130965739101e-08\n",
            "iteracao: 0 norm_grad: 54.52285335144345\n",
            "it:11, norm_grad:0.0003362596506054645, J:0.00018676389475280567, alpha_b:1362.1159181581206, hl:7.676449225881073e-08\n",
            "iteracao: 0 norm_grad: 60.80857748374367\n",
            "it:40, norm_grad:0.0009504535481062351, J:0.000560130584299759, alpha_b:536.0950042804463, hl:8.709592260200189e-07\n",
            "iteracao: 0 norm_grad: 70.14804496537137\n",
            "it:5, norm_grad:0.0005460986760711763, J:0.00032685508172156986, alpha_b:571.7225145013846, hl:2.1495303533216588e-07\n",
            "Melhor acurácia no validação obtida com os parametros itmax_bissec:[ 5] theta:[ 0.001]. Treino final: 1.0000 Teste:0.9032\n",
            "Fim da Execução: 21/01/2023 04:20:44\n"
          ]
        }
      ]
    },
    {
      "cell_type": "markdown",
      "source": [
        "# SVM"
      ],
      "metadata": {
        "id": "j50V1Z33zHM0"
      }
    },
    {
      "cell_type": "code",
      "source": [
        "modelo = 'SVM Classificador Kernel RBF C=1'\n",
        "\n",
        "log = pipeline_integrated_onedim(nome_do_modelo=modelo, \n",
        "                          classifier=  SVM_OVR.SVM_one_vs_all(),\n",
        "                          param_iteracao= {'sigma':[0.01, 0.1,1]},\n",
        "                          param_fixo=['C',1],\n",
        "                          data={'X_train':X_train_pca, 'X_test':X_test_pca, 'y_train':y_train_n, 'y_test':y_test_n})\n",
        "\n",
        "log_df = dictlog_to_flat_table(log)\n",
        "logs = logs.append(log_df,ignore_index=True)"
      ],
      "metadata": {
        "colab": {
          "base_uri": "https://localhost:8080/"
        },
        "id": "46TpRSsKzJgB",
        "outputId": "82bb3ae1-8d71-4ee2-910a-e42899e91f92"
      },
      "execution_count": 317,
      "outputs": [
        {
          "output_type": "stream",
          "name": "stdout",
          "text": [
            "Pipeline de testes para o modelo: SVM Classificador Kernel RBF\n",
            "====================================================================\n",
            "iteração:1\n",
            "Testando parametros:\n",
            " sigma:[ 0.01] C:[ 1]\n",
            "====================================================================\n"
          ]
        },
        {
          "output_type": "stream",
          "name": "stderr",
          "text": [
            "100%|██████████| 3/3 [00:00<00:00, 15.44it/s]\n",
            "100%|██████████| 3/3 [00:00<00:00, 20.37it/s]\n",
            "100%|██████████| 3/3 [00:00<00:00, 18.37it/s]\n",
            "100%|██████████| 3/3 [00:00<00:00, 17.79it/s]\n",
            "100%|██████████| 3/3 [00:00<00:00, 18.54it/s]\n"
          ]
        },
        {
          "output_type": "stream",
          "name": "stdout",
          "text": [
            "====================================================================\n",
            "iteração:2\n",
            "Testando parametros:\n",
            " sigma:[ 0.1] C:[ 1]\n",
            "====================================================================\n"
          ]
        },
        {
          "output_type": "stream",
          "name": "stderr",
          "text": [
            "100%|██████████| 3/3 [00:00<00:00, 18.08it/s]\n",
            "100%|██████████| 3/3 [00:00<00:00, 18.68it/s]\n",
            "100%|██████████| 3/3 [00:00<00:00, 18.21it/s]\n",
            "100%|██████████| 3/3 [00:00<00:00, 20.01it/s]\n",
            "100%|██████████| 3/3 [00:00<00:00, 16.88it/s]\n"
          ]
        },
        {
          "output_type": "stream",
          "name": "stdout",
          "text": [
            "====================================================================\n",
            "iteração:3\n",
            "Testando parametros:\n",
            " sigma:[ 1] C:[ 1]\n",
            "====================================================================\n"
          ]
        },
        {
          "output_type": "stream",
          "name": "stderr",
          "text": [
            "100%|██████████| 3/3 [00:00<00:00, 19.31it/s]\n",
            "100%|██████████| 3/3 [00:00<00:00, 19.82it/s]\n",
            "100%|██████████| 3/3 [00:00<00:00, 19.92it/s]\n",
            "100%|██████████| 3/3 [00:00<00:00, 20.59it/s]\n",
            "100%|██████████| 3/3 [00:00<00:00, 20.48it/s]\n",
            "100%|██████████| 3/3 [00:00<00:00, 12.52it/s]\n"
          ]
        }
      ]
    },
    {
      "cell_type": "code",
      "source": [
        "modelo = 'SVM Classificador Kernel RBF C=10'\n",
        "\n",
        "log = pipeline_integrated_onedim(nome_do_modelo=modelo, \n",
        "                          classifier=  SVM_OVR.SVM_one_vs_all(),\n",
        "                          param_iteracao= {'sigma':[0.01, 0.1,1]},\n",
        "                          param_fixo=['C',10],\n",
        "                          data={'X_train':X_train_pca, 'X_test':X_test_pca, 'y_train':y_train_n, 'y_test':y_test_n})\n",
        "\n",
        "log_df = dictlog_to_flat_table(log)\n",
        "logs = logs.append(log_df,ignore_index=True)"
      ],
      "metadata": {
        "colab": {
          "base_uri": "https://localhost:8080/"
        },
        "id": "DkuGV_aN4_Vl",
        "outputId": "b8d6cf15-33e5-4511-bc05-f30add08f8f3"
      },
      "execution_count": 328,
      "outputs": [
        {
          "output_type": "stream",
          "name": "stdout",
          "text": [
            "Pipeline de testes para o modelo: SVM Classificador Kernel RBF C=10\n",
            "====================================================================\n",
            "iteração:1\n",
            "Testando parametros:\n",
            " sigma:[ 0.01] C:[ 10]\n",
            "====================================================================\n"
          ]
        },
        {
          "output_type": "stream",
          "name": "stderr",
          "text": [
            "100%|██████████| 3/3 [00:00<00:00, 19.19it/s]\n",
            "100%|██████████| 3/3 [00:00<00:00, 19.69it/s]\n",
            "100%|██████████| 3/3 [00:00<00:00, 18.71it/s]\n",
            "100%|██████████| 3/3 [00:00<00:00, 17.71it/s]\n",
            "100%|██████████| 3/3 [00:00<00:00, 17.52it/s]\n"
          ]
        },
        {
          "output_type": "stream",
          "name": "stdout",
          "text": [
            "====================================================================\n",
            "iteração:2\n",
            "Testando parametros:\n",
            " sigma:[ 0.1] C:[ 10]\n",
            "====================================================================\n"
          ]
        },
        {
          "output_type": "stream",
          "name": "stderr",
          "text": [
            "100%|██████████| 3/3 [00:00<00:00, 17.96it/s]\n",
            "100%|██████████| 3/3 [00:00<00:00, 18.28it/s]\n",
            "100%|██████████| 3/3 [00:00<00:00, 18.95it/s]\n",
            "100%|██████████| 3/3 [00:00<00:00, 19.69it/s]\n",
            "100%|██████████| 3/3 [00:00<00:00, 16.09it/s]\n"
          ]
        },
        {
          "output_type": "stream",
          "name": "stdout",
          "text": [
            "====================================================================\n",
            "iteração:3\n",
            "Testando parametros:\n",
            " sigma:[ 1] C:[ 10]\n",
            "====================================================================\n"
          ]
        },
        {
          "output_type": "stream",
          "name": "stderr",
          "text": [
            "100%|██████████| 3/3 [00:00<00:00, 18.63it/s]\n",
            "100%|██████████| 3/3 [00:00<00:00, 20.17it/s]\n",
            "100%|██████████| 3/3 [00:00<00:00, 19.23it/s]\n",
            "100%|██████████| 3/3 [00:00<00:00, 16.65it/s]\n",
            "100%|██████████| 3/3 [00:00<00:00, 19.95it/s]\n",
            "100%|██████████| 3/3 [00:00<00:00, 11.66it/s]\n"
          ]
        }
      ]
    },
    {
      "cell_type": "code",
      "source": [
        "modelo = 'SVM Classificador Kernel RBF C=100'\n",
        "\n",
        "log = pipeline_integrated_onedim(nome_do_modelo=modelo, \n",
        "                          classifier=  SVM_OVR.SVM_one_vs_all(),\n",
        "                          param_iteracao= {'sigma':[0.01, 0.1,1]},\n",
        "                          param_fixo=['C',100],\n",
        "                          data={'X_train':X_train_pca, 'X_test':X_test_pca, 'y_train':y_train_n, 'y_test':y_test_n})\n",
        "\n",
        "log_df = dictlog_to_flat_table(log)\n",
        "logs = logs.append(log_df)"
      ],
      "metadata": {
        "colab": {
          "base_uri": "https://localhost:8080/"
        },
        "id": "2snFIIhe5O2a",
        "outputId": "d7db30df-862b-4ee5-ac51-6829406766ea"
      },
      "execution_count": 326,
      "outputs": [
        {
          "output_type": "stream",
          "name": "stdout",
          "text": [
            "Pipeline de testes para o modelo: SVM Classificador Kernel RBF C=100\n",
            "====================================================================\n",
            "iteração:1\n",
            "Testando parametros:\n",
            " sigma:[ 0.01] C:[ 100]\n",
            "====================================================================\n"
          ]
        },
        {
          "output_type": "stream",
          "name": "stderr",
          "text": [
            "100%|██████████| 3/3 [00:00<00:00, 18.21it/s]\n",
            "100%|██████████| 3/3 [00:00<00:00, 17.42it/s]\n",
            "100%|██████████| 3/3 [00:00<00:00, 16.44it/s]\n",
            "100%|██████████| 3/3 [00:00<00:00, 18.27it/s]\n",
            "100%|██████████| 3/3 [00:00<00:00, 18.56it/s]\n"
          ]
        },
        {
          "output_type": "stream",
          "name": "stdout",
          "text": [
            "====================================================================\n",
            "iteração:2\n",
            "Testando parametros:\n",
            " sigma:[ 0.1] C:[ 100]\n",
            "====================================================================\n"
          ]
        },
        {
          "output_type": "stream",
          "name": "stderr",
          "text": [
            "100%|██████████| 3/3 [00:00<00:00, 17.45it/s]\n",
            "100%|██████████| 3/3 [00:00<00:00, 18.58it/s]\n",
            "100%|██████████| 3/3 [00:00<00:00, 19.35it/s]\n",
            "100%|██████████| 3/3 [00:00<00:00, 15.56it/s]\n",
            "100%|██████████| 3/3 [00:00<00:00, 16.95it/s]\n"
          ]
        },
        {
          "output_type": "stream",
          "name": "stdout",
          "text": [
            "====================================================================\n",
            "iteração:3\n",
            "Testando parametros:\n",
            " sigma:[ 1] C:[ 100]\n",
            "====================================================================\n"
          ]
        },
        {
          "output_type": "stream",
          "name": "stderr",
          "text": [
            "100%|██████████| 3/3 [00:00<00:00, 18.37it/s]\n",
            "100%|██████████| 3/3 [00:00<00:00, 19.59it/s]\n",
            "100%|██████████| 3/3 [00:00<00:00, 19.45it/s]\n",
            "100%|██████████| 3/3 [00:00<00:00, 16.99it/s]\n",
            "100%|██████████| 3/3 [00:00<00:00, 19.27it/s]\n",
            "100%|██████████| 3/3 [00:00<00:00, 12.41it/s]\n"
          ]
        }
      ]
    },
    {
      "cell_type": "markdown",
      "source": [
        "# MLP"
      ],
      "metadata": {
        "id": "x2EcgwPG6R0V"
      }
    },
    {
      "cell_type": "code",
      "source": [
        "modelo = 'MultiLayer Perceptron alpha 0.1'\n",
        "\n",
        "log = pipeline_integrated_onedim(nome_do_modelo=modelo, \n",
        "                          classifier=  ANN.RNA(),\n",
        "                          param_iteracao= {'h':[5,10]},\n",
        "                          param_fixo=['alpha',0.1],\n",
        "                          data={'X_train':X_train_pca, 'X_test':X_test_pca, 'y_train':y_train_n, 'y_test':y_test_n},\n",
        "                          neural_network=True)\n",
        "\n",
        "log_df = dictlog_to_flat_table(log)\n",
        "logs = logs.append(log_df,ignore_index=True)"
      ],
      "metadata": {
        "colab": {
          "base_uri": "https://localhost:8080/"
        },
        "id": "tl_AuVKW6UEs",
        "outputId": "c8243d19-81f6-455c-d58c-270d4b52f14d"
      },
      "execution_count": 364,
      "outputs": [
        {
          "output_type": "stream",
          "name": "stdout",
          "text": [
            "Pipeline de testes para o modelo: MultiLayer Perceptron alpha 0.1\n",
            "Execução em: 21/01/2023 03:44:45\n",
            "====================================================================\n",
            "iteração:1\n",
            "Testando parametros:\n",
            " h:[ 5] alpha:[ 0.1]\n",
            "====================================================================\n",
            "nep: 10000 EQM: 0.7009551184557535 EQM_val: 0.63545279749338 norm: 0.0012687082365433209\n",
            "nep: 20000 EQM: 0.7009551184557535 EQM_val: 0.6284035365766786 norm: 0.0005955645268373699\n",
            "nep: 30000 EQM: 0.7009551184557535 EQM_val: 0.6287791852130543 norm: 0.00038401351734432336\n",
            "nep: 40000 EQM: 0.7009551184557535 EQM_val: 0.6289036376732141 norm: 0.00024281642522301926\n",
            "nep: 50000 EQM: 0.7009551184557535 EQM_val: 0.628600065232641 norm: 0.00018628880218581886\n",
            "Convergência em 50000 epochs\n",
            "nep: 10000 EQM: 0.7375571613578742 EQM_val: 0.7073815696484845 norm: 0.0017305623492521853\n",
            "nep: 20000 EQM: 0.7375571613578742 EQM_val: 0.7156546523993921 norm: 0.0005324970329542368\n",
            "nep: 30000 EQM: 0.7375571613578742 EQM_val: 0.7180977730292941 norm: 0.0003318819211747358\n",
            "nep: 40000 EQM: 0.7375571613578742 EQM_val: 0.7188588887578102 norm: 0.0002418468185016222\n",
            "nep: 50000 EQM: 0.7375571613578742 EQM_val: 0.719082451851654 norm: 0.00018915977955296861\n",
            "Convergência em 50000 epochs\n",
            "nep: 10000 EQM: 0.7761490727980807 EQM_val: 0.6176489985692754 norm: 0.004042359124308876\n",
            "nep: 20000 EQM: 0.7761490727980807 EQM_val: 0.6152161187648655 norm: 0.0007686173812469564\n",
            "nep: 30000 EQM: 0.7761490727980807 EQM_val: 0.6139591892794366 norm: 0.0004277504952807176\n",
            "nep: 40000 EQM: 0.7761490727980807 EQM_val: 0.6132720943510692 norm: 0.00029243127949943\n",
            "nep: 50000 EQM: 0.7761490727980807 EQM_val: 0.6127570707611844 norm: 0.0002275864331586022\n",
            "Convergência em 50000 epochs\n",
            "nep: 10000 EQM: 0.7713668294408613 EQM_val: 0.4383530799853104 norm: 0.0016689398031703008\n",
            "nep: 20000 EQM: 0.7713668294408613 EQM_val: 0.4400732413466985 norm: 0.0006562433821015256\n",
            "nep: 30000 EQM: 0.7713668294408613 EQM_val: 0.44103831944059696 norm: 0.0004063742964651465\n",
            "nep: 40000 EQM: 0.7713668294408613 EQM_val: 0.4415346696829451 norm: 0.00029206739964610903\n",
            "nep: 50000 EQM: 0.7713668294408613 EQM_val: 0.44180039935128856 norm: 0.00022616213685370097\n",
            "Convergência em 50000 epochs\n",
            "nep: 10000 EQM: 0.7915905158945737 EQM_val: 0.6213798144684012 norm: 0.0020637716740967735\n",
            "nep: 20000 EQM: 0.7915905158945737 EQM_val: 0.6325213123980458 norm: 0.0006458937610129713\n",
            "nep: 30000 EQM: 0.7915905158945737 EQM_val: 0.6345203495000645 norm: 0.0003963168324641766\n",
            "nep: 40000 EQM: 0.7915905158945737 EQM_val: 0.6361064802490622 norm: 0.00030220162291540506\n",
            "nep: 50000 EQM: 0.7915905158945737 EQM_val: 0.6383100548854257 norm: 0.00029783329279559225\n",
            "Convergência em 50000 epochs\n",
            "Execução em: 21/01/2023 03:45:47\n",
            "====================================================================\n",
            "iteração:2\n",
            "Testando parametros:\n",
            " h:[ 10] alpha:[ 0.1]\n",
            "====================================================================\n",
            "nep: 10000 EQM: 0.715182551153217 EQM_val: 0.6900546780055512 norm: 0.001359020450565065\n",
            "nep: 20000 EQM: 0.715182551153217 EQM_val: 0.7014802656516883 norm: 0.0005278438207916622\n",
            "nep: 30000 EQM: 0.715182551153217 EQM_val: 0.7071223464501303 norm: 0.0003293633548429403\n",
            "nep: 40000 EQM: 0.715182551153217 EQM_val: 0.7105324269766639 norm: 0.00024018435262563386\n",
            "nep: 50000 EQM: 0.715182551153217 EQM_val: 0.7125479030237895 norm: 0.00018946318187628298\n",
            "Convergência em 50000 epochs\n",
            "nep: 10000 EQM: 0.6917101284109687 EQM_val: 0.7811339719886644 norm: 0.0016851974456907775\n",
            "nep: 20000 EQM: 0.6917101284109687 EQM_val: 0.7946446327077173 norm: 0.0005704141343426666\n",
            "nep: 30000 EQM: 0.6917101284109687 EQM_val: 0.8037877159407557 norm: 0.0003544480611141161\n",
            "nep: 40000 EQM: 0.6917101284109687 EQM_val: 0.8119104484461995 norm: 0.0002917683923718263\n",
            "nep: 50000 EQM: 0.6917101284109687 EQM_val: 0.820165169241621 norm: 0.0002052955405776715\n",
            "Convergência em 50000 epochs\n",
            "nep: 10000 EQM: 0.7419610279094176 EQM_val: 0.6265558935206681 norm: 0.0023405108140986787\n",
            "nep: 20000 EQM: 0.7419610279094176 EQM_val: 0.624621677986398 norm: 0.0006359420475330231\n",
            "nep: 30000 EQM: 0.7419610279094176 EQM_val: 0.6294799267439151 norm: 0.002339965793967203\n",
            "nep: 40000 EQM: 0.7419610279094176 EQM_val: 0.6288359225045763 norm: 0.00040821376245164174\n",
            "nep: 50000 EQM: 0.7419610279094176 EQM_val: 0.628991216752321 norm: 0.00025523723722919306\n",
            "Convergência em 50000 epochs\n",
            "nep: 10000 EQM: 0.7676960274128969 EQM_val: 0.46542124047184796 norm: 0.009445194291001964\n",
            "nep: 20000 EQM: 0.7676960274128969 EQM_val: 0.43455118273030513 norm: 0.0004962801438534251\n",
            "nep: 30000 EQM: 0.7676960274128969 EQM_val: 0.42760261202039146 norm: 0.0002790241547511591\n",
            "nep: 40000 EQM: 0.7676960274128969 EQM_val: 0.42511959324896054 norm: 0.00020027055222448064\n",
            "nep: 50000 EQM: 0.7676960274128969 EQM_val: 0.42359344414671396 norm: 0.0001566933532755341\n",
            "Convergência em 50000 epochs\n",
            "nep: 10000 EQM: 0.7176816176951019 EQM_val: 0.7094653151067563 norm: 0.001607423027941767\n",
            "nep: 20000 EQM: 0.7176816176951019 EQM_val: 0.6965063605677594 norm: 0.001032578544975698\n",
            "nep: 30000 EQM: 0.7176816176951019 EQM_val: 0.7039633055207479 norm: 0.00044918263566128723\n",
            "nep: 40000 EQM: 0.7176816176951019 EQM_val: 0.7069316241306194 norm: 0.00025949630038574347\n",
            "nep: 50000 EQM: 0.7176816176951019 EQM_val: 0.7082439752140466 norm: 0.00017652269205177578\n",
            "Convergência em 50000 epochs\n",
            "nep: 10000 EQM: 0.717734623580204 EQM_val: 0.48439687294805367 norm: 0.00321127279151791\n",
            "nep: 20000 EQM: 0.717734623580204 EQM_val: 0.4403743584706625 norm: 0.0007546394777264101\n",
            "nep: 30000 EQM: 0.717734623580204 EQM_val: 0.43596829361325834 norm: 0.0009923285592966754\n",
            "nep: 40000 EQM: 0.717734623580204 EQM_val: 0.4024575201787484 norm: 0.0010421940886451867\n",
            "nep: 50000 EQM: 0.717734623580204 EQM_val: 0.4071505579766969 norm: 0.00042298305422215046\n",
            "Convergência em 50000 epochs\n",
            "Melhor acurácia no validação obtida com os parametros h:[ 5] alpha:[ 0.1]. Treino final: 0.3286 Teste:0.3548\n",
            "Fim da Execução: 21/01/2023 03:47:06\n"
          ]
        }
      ]
    },
    {
      "cell_type": "code",
      "source": [
        "pd.set_option('display.max_columns', None)\n",
        "logs.head(3)"
      ],
      "metadata": {
        "colab": {
          "base_uri": "https://localhost:8080/",
          "height": 315
        },
        "id": "zZ1NeTjf4gzi",
        "outputId": "350c0b5b-6cdc-4186-b4b5-b56ab5e417ac"
      },
      "execution_count": 406,
      "outputs": [
        {
          "output_type": "execute_result",
          "data": {
            "text/plain": [
              "                          exec_time  \\\n",
              "0  Execução em: 21/01/2023 04:20:44   \n",
              "1  Execução em: 21/01/2023 04:20:44   \n",
              "\n",
              "                                     model_name parametro_fixo  \\\n",
              "0  Regressão Logística Multinomial com Bisseção  theta:[0.001]   \n",
              "1  Regressão Logística Multinomial com Bisseção  theta:[0.001]   \n",
              "\n",
              "      parametro_variavel                                             kfold  \\\n",
              "0  itmax_bissec:[ 5 20 ]  KFold(n_splits=5, random_state=42, shuffle=True)   \n",
              "1  itmax_bissec:[ 5 20 ]  KFold(n_splits=5, random_state=42, shuffle=True)   \n",
              "\n",
              "                                   melhor_modelo_obj  \\\n",
              "0  <Multinomial_LogReg.MultinomialLogReg_bissecao...   \n",
              "1  <Multinomial_LogReg.MultinomialLogReg_bissecao...   \n",
              "\n",
              "                  best_param_k_fold  acc_train_best_model  \\\n",
              "0  itmax_bissec:[ 5] theta:[ 0.001]                   1.0   \n",
              "1  itmax_bissec:[ 5] theta:[ 0.001]                   1.0   \n",
              "\n",
              "   acc_test_best_model         index                           cv_param  \\\n",
              "0             0.903226  cv_results_1   itmax_bissec:[ 5] theta:[ 0.001]   \n",
              "1             0.903226  cv_results_2  itmax_bissec:[ 20] theta:[ 0.001]   \n",
              "\n",
              "  acc_train_0 acc_val_0 acc_test_0 acc_train_1 acc_val_1 acc_test_1  \\\n",
              "0         1.0  0.857143   0.806452         1.0  0.785714   0.967742   \n",
              "1         1.0  0.785714   0.774194         1.0  0.571429   0.903226   \n",
              "\n",
              "  acc_train_2 acc_val_2 acc_test_2 acc_train_3 acc_val_3 acc_test_3  \\\n",
              "0         1.0  0.714286   0.903226         1.0  0.642857   0.903226   \n",
              "1         1.0  0.714286   0.870968         1.0  0.857143   0.935484   \n",
              "\n",
              "  acc_train_4 acc_val_4 acc_test_4  \\\n",
              "0         1.0  0.785714   0.870968   \n",
              "1         1.0  0.714286   0.870968   \n",
              "\n",
              "                                         modelo  \n",
              "0  regressao_logistica_multinomial_com_bissecao  \n",
              "1  regressao_logistica_multinomial_com_bissecao  "
            ],
            "text/html": [
              "\n",
              "  <div id=\"df-a77a6aae-6659-4a9d-9c68-cdf4c39b5675\">\n",
              "    <div class=\"colab-df-container\">\n",
              "      <div>\n",
              "<style scoped>\n",
              "    .dataframe tbody tr th:only-of-type {\n",
              "        vertical-align: middle;\n",
              "    }\n",
              "\n",
              "    .dataframe tbody tr th {\n",
              "        vertical-align: top;\n",
              "    }\n",
              "\n",
              "    .dataframe thead th {\n",
              "        text-align: right;\n",
              "    }\n",
              "</style>\n",
              "<table border=\"1\" class=\"dataframe\">\n",
              "  <thead>\n",
              "    <tr style=\"text-align: right;\">\n",
              "      <th></th>\n",
              "      <th>exec_time</th>\n",
              "      <th>model_name</th>\n",
              "      <th>parametro_fixo</th>\n",
              "      <th>parametro_variavel</th>\n",
              "      <th>kfold</th>\n",
              "      <th>melhor_modelo_obj</th>\n",
              "      <th>best_param_k_fold</th>\n",
              "      <th>acc_train_best_model</th>\n",
              "      <th>acc_test_best_model</th>\n",
              "      <th>index</th>\n",
              "      <th>cv_param</th>\n",
              "      <th>acc_train_0</th>\n",
              "      <th>acc_val_0</th>\n",
              "      <th>acc_test_0</th>\n",
              "      <th>acc_train_1</th>\n",
              "      <th>acc_val_1</th>\n",
              "      <th>acc_test_1</th>\n",
              "      <th>acc_train_2</th>\n",
              "      <th>acc_val_2</th>\n",
              "      <th>acc_test_2</th>\n",
              "      <th>acc_train_3</th>\n",
              "      <th>acc_val_3</th>\n",
              "      <th>acc_test_3</th>\n",
              "      <th>acc_train_4</th>\n",
              "      <th>acc_val_4</th>\n",
              "      <th>acc_test_4</th>\n",
              "      <th>modelo</th>\n",
              "    </tr>\n",
              "  </thead>\n",
              "  <tbody>\n",
              "    <tr>\n",
              "      <th>0</th>\n",
              "      <td>Execução em: 21/01/2023 04:20:44</td>\n",
              "      <td>Regressão Logística Multinomial com Bisseção</td>\n",
              "      <td>theta:[0.001]</td>\n",
              "      <td>itmax_bissec:[ 5 20 ]</td>\n",
              "      <td>KFold(n_splits=5, random_state=42, shuffle=True)</td>\n",
              "      <td>&lt;Multinomial_LogReg.MultinomialLogReg_bissecao...</td>\n",
              "      <td>itmax_bissec:[ 5] theta:[ 0.001]</td>\n",
              "      <td>1.0</td>\n",
              "      <td>0.903226</td>\n",
              "      <td>cv_results_1</td>\n",
              "      <td>itmax_bissec:[ 5] theta:[ 0.001]</td>\n",
              "      <td>1.0</td>\n",
              "      <td>0.857143</td>\n",
              "      <td>0.806452</td>\n",
              "      <td>1.0</td>\n",
              "      <td>0.785714</td>\n",
              "      <td>0.967742</td>\n",
              "      <td>1.0</td>\n",
              "      <td>0.714286</td>\n",
              "      <td>0.903226</td>\n",
              "      <td>1.0</td>\n",
              "      <td>0.642857</td>\n",
              "      <td>0.903226</td>\n",
              "      <td>1.0</td>\n",
              "      <td>0.785714</td>\n",
              "      <td>0.870968</td>\n",
              "      <td>regressao_logistica_multinomial_com_bissecao</td>\n",
              "    </tr>\n",
              "    <tr>\n",
              "      <th>1</th>\n",
              "      <td>Execução em: 21/01/2023 04:20:44</td>\n",
              "      <td>Regressão Logística Multinomial com Bisseção</td>\n",
              "      <td>theta:[0.001]</td>\n",
              "      <td>itmax_bissec:[ 5 20 ]</td>\n",
              "      <td>KFold(n_splits=5, random_state=42, shuffle=True)</td>\n",
              "      <td>&lt;Multinomial_LogReg.MultinomialLogReg_bissecao...</td>\n",
              "      <td>itmax_bissec:[ 5] theta:[ 0.001]</td>\n",
              "      <td>1.0</td>\n",
              "      <td>0.903226</td>\n",
              "      <td>cv_results_2</td>\n",
              "      <td>itmax_bissec:[ 20] theta:[ 0.001]</td>\n",
              "      <td>1.0</td>\n",
              "      <td>0.785714</td>\n",
              "      <td>0.774194</td>\n",
              "      <td>1.0</td>\n",
              "      <td>0.571429</td>\n",
              "      <td>0.903226</td>\n",
              "      <td>1.0</td>\n",
              "      <td>0.714286</td>\n",
              "      <td>0.870968</td>\n",
              "      <td>1.0</td>\n",
              "      <td>0.857143</td>\n",
              "      <td>0.935484</td>\n",
              "      <td>1.0</td>\n",
              "      <td>0.714286</td>\n",
              "      <td>0.870968</td>\n",
              "      <td>regressao_logistica_multinomial_com_bissecao</td>\n",
              "    </tr>\n",
              "  </tbody>\n",
              "</table>\n",
              "</div>\n",
              "      <button class=\"colab-df-convert\" onclick=\"convertToInteractive('df-a77a6aae-6659-4a9d-9c68-cdf4c39b5675')\"\n",
              "              title=\"Convert this dataframe to an interactive table.\"\n",
              "              style=\"display:none;\">\n",
              "        \n",
              "  <svg xmlns=\"http://www.w3.org/2000/svg\" height=\"24px\"viewBox=\"0 0 24 24\"\n",
              "       width=\"24px\">\n",
              "    <path d=\"M0 0h24v24H0V0z\" fill=\"none\"/>\n",
              "    <path d=\"M18.56 5.44l.94 2.06.94-2.06 2.06-.94-2.06-.94-.94-2.06-.94 2.06-2.06.94zm-11 1L8.5 8.5l.94-2.06 2.06-.94-2.06-.94L8.5 2.5l-.94 2.06-2.06.94zm10 10l.94 2.06.94-2.06 2.06-.94-2.06-.94-.94-2.06-.94 2.06-2.06.94z\"/><path d=\"M17.41 7.96l-1.37-1.37c-.4-.4-.92-.59-1.43-.59-.52 0-1.04.2-1.43.59L10.3 9.45l-7.72 7.72c-.78.78-.78 2.05 0 2.83L4 21.41c.39.39.9.59 1.41.59.51 0 1.02-.2 1.41-.59l7.78-7.78 2.81-2.81c.8-.78.8-2.07 0-2.86zM5.41 20L4 18.59l7.72-7.72 1.47 1.35L5.41 20z\"/>\n",
              "  </svg>\n",
              "      </button>\n",
              "      \n",
              "  <style>\n",
              "    .colab-df-container {\n",
              "      display:flex;\n",
              "      flex-wrap:wrap;\n",
              "      gap: 12px;\n",
              "    }\n",
              "\n",
              "    .colab-df-convert {\n",
              "      background-color: #E8F0FE;\n",
              "      border: none;\n",
              "      border-radius: 50%;\n",
              "      cursor: pointer;\n",
              "      display: none;\n",
              "      fill: #1967D2;\n",
              "      height: 32px;\n",
              "      padding: 0 0 0 0;\n",
              "      width: 32px;\n",
              "    }\n",
              "\n",
              "    .colab-df-convert:hover {\n",
              "      background-color: #E2EBFA;\n",
              "      box-shadow: 0px 1px 2px rgba(60, 64, 67, 0.3), 0px 1px 3px 1px rgba(60, 64, 67, 0.15);\n",
              "      fill: #174EA6;\n",
              "    }\n",
              "\n",
              "    [theme=dark] .colab-df-convert {\n",
              "      background-color: #3B4455;\n",
              "      fill: #D2E3FC;\n",
              "    }\n",
              "\n",
              "    [theme=dark] .colab-df-convert:hover {\n",
              "      background-color: #434B5C;\n",
              "      box-shadow: 0px 1px 3px 1px rgba(0, 0, 0, 0.15);\n",
              "      filter: drop-shadow(0px 1px 2px rgba(0, 0, 0, 0.3));\n",
              "      fill: #FFFFFF;\n",
              "    }\n",
              "  </style>\n",
              "\n",
              "      <script>\n",
              "        const buttonEl =\n",
              "          document.querySelector('#df-a77a6aae-6659-4a9d-9c68-cdf4c39b5675 button.colab-df-convert');\n",
              "        buttonEl.style.display =\n",
              "          google.colab.kernel.accessAllowed ? 'block' : 'none';\n",
              "\n",
              "        async function convertToInteractive(key) {\n",
              "          const element = document.querySelector('#df-a77a6aae-6659-4a9d-9c68-cdf4c39b5675');\n",
              "          const dataTable =\n",
              "            await google.colab.kernel.invokeFunction('convertToInteractive',\n",
              "                                                     [key], {});\n",
              "          if (!dataTable) return;\n",
              "\n",
              "          const docLinkHtml = 'Like what you see? Visit the ' +\n",
              "            '<a target=\"_blank\" href=https://colab.research.google.com/notebooks/data_table.ipynb>data table notebook</a>'\n",
              "            + ' to learn more about interactive tables.';\n",
              "          element.innerHTML = '';\n",
              "          dataTable['output_type'] = 'display_data';\n",
              "          await google.colab.output.renderOutput(dataTable, element);\n",
              "          const docLink = document.createElement('div');\n",
              "          docLink.innerHTML = docLinkHtml;\n",
              "          element.appendChild(docLink);\n",
              "        }\n",
              "      </script>\n",
              "    </div>\n",
              "  </div>\n",
              "  "
            ]
          },
          "metadata": {},
          "execution_count": 406
        }
      ]
    },
    {
      "cell_type": "markdown",
      "source": [
        "# Informações Melhor Modelo"
      ],
      "metadata": {
        "id": "8ZrLT-JZGohf"
      }
    },
    {
      "cell_type": "code",
      "source": [
        "def save_error(label):\n",
        "  errorFile = open(erro_dir +label + '.txt', 'w') \n",
        "  print('Execução em: {}'.format(datetime.now(pytz.timezone('America/Bahia')).strftime(\"%d/%m/%Y %H:%M:%S\")) , file=errorFile)\n",
        "\n",
        "  out=''\n",
        "  for i,r in melhor_modelo_infos.filter(like='acc').T.reset_index().iterrows():\n",
        "    out=out + str(r['index']) + ':' + str(r[0]) + '\\n'\n",
        "  print(out, file=errorFile)\n",
        "  errorFile.close()"
      ],
      "metadata": {
        "id": "U6Q5Jm6tHS_J"
      },
      "execution_count": 415,
      "outputs": []
    },
    {
      "cell_type": "code",
      "source": [
        "label = tag + '_' + 'melhor'\n",
        "\n",
        "melhor_modelo_infos = logs.sort_values(by='acc_test_best_model',ascending=False).head(1)\n",
        "\n",
        "# Salva mehlhor modelo\n",
        "melhor_modelo = melhor_modelo_infos['melhor_modelo_obj'].iloc[0]\n",
        "with open(model_save_dir + label +'.obj', 'wb') as fp:\n",
        "  pickle.dump(melhor_modelo, fp)\n",
        "\n",
        "# Salva o erro\n",
        "save_error(label)\n",
        "\n",
        "#Salva o config\n",
        "melhor_modelo_infos.drop(columns = melhor_modelo_infos.filter(like='acc').columns).T.rename(columns={0:'config'}).to_csv(config_dir + label  +'.txt', sep=':')"
      ],
      "metadata": {
        "id": "da4yaCoVGDtZ"
      },
      "execution_count": 425,
      "outputs": []
    },
    {
      "cell_type": "code",
      "source": [
        "label = tag + '_' + 'pior'\n",
        "\n",
        "pior_modelo_infos = logs.sort_values(by='acc_test_best_model',ascending=False).tail(1)\n",
        "\n",
        "# Salva pior modelo\n",
        "pior = pior_modelo_infos['melhor_modelo_obj'].iloc[0]\n",
        "with open(model_save_dir + label +'.obj', 'wb') as fp:\n",
        "  pickle.dump(pior, fp)\n",
        "\n",
        "# Salva o erro\n",
        "save_error(label)\n",
        "\n",
        "#Salva o config\n",
        "melhor_modelo_infos.drop(columns = pior_modelo_infos.filter(like='acc').columns).T.rename(columns={0:'config'}).to_csv(config_dir + label  +'.txt', sep=':')"
      ],
      "metadata": {
        "id": "B-XcQhGYJaMA"
      },
      "execution_count": 426,
      "outputs": []
    }
  ],
  "metadata": {
    "colab": {
      "machine_shape": "hm",
      "provenance": [],
      "include_colab_link": true
    },
    "gpuClass": "standard",
    "kernelspec": {
      "display_name": "Python 3",
      "language": "python",
      "name": "python3"
    },
    "language_info": {
      "codemirror_mode": {
        "name": "ipython",
        "version": 3
      },
      "file_extension": ".py",
      "mimetype": "text/x-python",
      "name": "python",
      "nbconvert_exporter": "python",
      "pygments_lexer": "ipython3",
      "version": "3.7.10"
    },
    "varInspector": {
      "cols": {
        "lenName": 16,
        "lenType": 16,
        "lenVar": 40
      },
      "kernels_config": {
        "python": {
          "delete_cmd_postfix": "",
          "delete_cmd_prefix": "del ",
          "library": "var_list.py",
          "varRefreshCmd": "print(var_dic_list())"
        },
        "r": {
          "delete_cmd_postfix": ") ",
          "delete_cmd_prefix": "rm(",
          "library": "var_list.r",
          "varRefreshCmd": "cat(var_dic_list()) "
        }
      },
      "types_to_exclude": [
        "module",
        "function",
        "builtin_function_or_method",
        "instance",
        "_Feature"
      ],
      "window_display": false
    }
  },
  "nbformat": 4,
  "nbformat_minor": 0
}